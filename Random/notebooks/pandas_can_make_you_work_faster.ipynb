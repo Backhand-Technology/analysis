{
 "cells": [
  {
   "cell_type": "markdown",
   "metadata": {},
   "source": [
    "# Pandas Can Make You Work Faster\n",
    "I'm currently looking for work. (If I can help you, [get in touch](https://backhand.tech/contact.html#contact))\n",
    "\n",
    "As part of a technical take-home project I had to use a proprietary ETL tool to mangle some data from a couple of api endpoints, collate it and push the data into an Excel file. Simple, you may say...\n",
    "\n",
    "After finding out that the software only runs on Windows, creating a virtual machine on my Mac, installing Windows, wrangling with a GUI to create the ETL workflow, packing it into code that can be shared and finally publishing it, I wondered if I could do the same task any faster and produce something that could be version-controlled, reviewed, tested....\n",
    "\n",
    "Of course I could. In 13 lines of Pandas code.\n"
   ]
  },
  {
   "cell_type": "code",
   "execution_count": 84,
   "metadata": {},
   "outputs": [],
   "source": [
    "import pandas as pd\n",
    "import requests"
   ]
  },
  {
   "cell_type": "code",
   "execution_count": 80,
   "metadata": {},
   "outputs": [],
   "source": [
    "datasets = ['RUTH', 'IRID', 'RHOD', 'PALL']"
   ]
  },
  {
   "cell_type": "code",
   "execution_count": 81,
   "metadata": {},
   "outputs": [],
   "source": [
    "def get_data(dataset):\n",
    "    response = requests.get(f'https://www.quandl.com/api/v3/datasets/JOHNMATT/{dataset}?api_key={api_key}')\n",
    "    raw = response.json()['dataset']\n",
    "    cols = raw['column_names']\n",
    "    name = raw['name']\n",
    "    df = pd.DataFrame(raw['data'], columns=cols)\n",
    "    df['Dataset name'] = name\n",
    "    return df"
   ]
  },
  {
   "cell_type": "code",
   "execution_count": 82,
   "metadata": {},
   "outputs": [],
   "source": [
    "df = pd.concat([get_data(dataset) for dataset in datasets])"
   ]
  },
  {
   "cell_type": "code",
   "execution_count": 83,
   "metadata": {},
   "outputs": [],
   "source": [
    "df.to_excel(\"~/Desktop/metal_prices.xlsx\", index=False, sheet_name='Rare Metal Prices')"
   ]
  }
 ],
 "metadata": {
  "kernelspec": {
   "display_name": "Python 3",
   "language": "python",
   "name": "python3"
  },
  "language_info": {
   "codemirror_mode": {
    "name": "ipython",
    "version": 3
   },
   "file_extension": ".py",
   "mimetype": "text/x-python",
   "name": "python",
   "nbconvert_exporter": "python",
   "pygments_lexer": "ipython3",
   "version": "3.7.7"
  }
 },
 "nbformat": 4,
 "nbformat_minor": 4
}
