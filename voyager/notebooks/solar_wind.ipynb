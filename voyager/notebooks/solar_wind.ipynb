{
 "cells": [
  {
   "cell_type": "markdown",
   "metadata": {},
   "source": [
    "On November 5th 2018, a marvelous thing happened."
   ]
  },
  {
   "cell_type": "code",
   "execution_count": 2,
   "metadata": {},
   "outputs": [],
   "source": [
    "from common.chart_helper import *"
   ]
  },
  {
   "cell_type": "code",
   "execution_count": 3,
   "metadata": {},
   "outputs": [],
   "source": [
    "column_names = [\n",
    "    \"DECIMAL YEAR\",\n",
    "    \"DAY OF YEAR\",\n",
    "    \"V2 ANGLE\",\n",
    "    \"V2 HELIOLATITUDE\",\n",
    "    \"EARTH HELIOLATITUDE\"\n",
    "    \"V2 HELIOLONGITUDE\",\n",
    "    \"EARTH HELIOLONGITUDE\",\n",
    "    \"VR\",\n",
    "    \"VT\",\n",
    "    \"VN\",\n",
    "    \"DEN MOMENT\",\n",
    "    \"DEN FIT\",\n",
    "    \"W MOMENT\",\n",
    "    \"W FIT\",\n",
    "    \"R\"]"
   ]
  },
  {
   "cell_type": "code",
   "execution_count": 4,
   "metadata": {},
   "outputs": [],
   "source": [
    "df = pd.read_csv('/Users/martinbell/analysis/voyager/source/VG2-SS-PLS-4-SUMM-1DAY-AVG-V1.0/DATA/2018_021_AUG.TAB', sep='\\s+', header = None, names = column_names, index_col=False)"
   ]
  },
  {
   "cell_type": "code",
   "execution_count": 5,
   "metadata": {},
   "outputs": [
    {
     "data": {
      "text/html": [
       "<div>\n",
       "<style scoped>\n",
       "    .dataframe tbody tr th:only-of-type {\n",
       "        vertical-align: middle;\n",
       "    }\n",
       "\n",
       "    .dataframe tbody tr th {\n",
       "        vertical-align: top;\n",
       "    }\n",
       "\n",
       "    .dataframe thead th {\n",
       "        text-align: right;\n",
       "    }\n",
       "</style>\n",
       "<table border=\"1\" class=\"dataframe\">\n",
       "  <thead>\n",
       "    <tr style=\"text-align: right;\">\n",
       "      <th></th>\n",
       "      <th>DECIMAL YEAR</th>\n",
       "      <th>DAY OF YEAR</th>\n",
       "      <th>V2 ANGLE</th>\n",
       "      <th>V2 HELIOLATITUDE</th>\n",
       "      <th>EARTH HELIOLATITUDEV2 HELIOLONGITUDE</th>\n",
       "      <th>EARTH HELIOLONGITUDE</th>\n",
       "      <th>VR</th>\n",
       "      <th>VT</th>\n",
       "      <th>VN</th>\n",
       "      <th>DEN MOMENT</th>\n",
       "      <th>DEN FIT</th>\n",
       "      <th>W MOMENT</th>\n",
       "      <th>W FIT</th>\n",
       "      <th>R</th>\n",
       "    </tr>\n",
       "  </thead>\n",
       "  <tbody>\n",
       "    <tr>\n",
       "      <th>0</th>\n",
       "      <td>77.640076</td>\n",
       "      <td>234.0</td>\n",
       "      <td>0.65</td>\n",
       "      <td>7.20</td>\n",
       "      <td>6.96</td>\n",
       "      <td>-105.56</td>\n",
       "      <td>-106.17</td>\n",
       "      <td>350.89</td>\n",
       "      <td>30.24</td>\n",
       "      <td>15.65</td>\n",
       "      <td>4.82811</td>\n",
       "      <td>4.54375</td>\n",
       "      <td>28.89</td>\n",
       "      <td>25.42</td>\n",
       "    </tr>\n",
       "    <tr>\n",
       "      <th>1</th>\n",
       "      <td>77.642250</td>\n",
       "      <td>235.0</td>\n",
       "      <td>0.92</td>\n",
       "      <td>7.31</td>\n",
       "      <td>6.99</td>\n",
       "      <td>-104.55</td>\n",
       "      <td>-105.41</td>\n",
       "      <td>330.08</td>\n",
       "      <td>26.39</td>\n",
       "      <td>35.59</td>\n",
       "      <td>9.81383</td>\n",
       "      <td>9.17923</td>\n",
       "      <td>20.89</td>\n",
       "      <td>19.74</td>\n",
       "    </tr>\n",
       "    <tr>\n",
       "      <th>2</th>\n",
       "      <td>77.645432</td>\n",
       "      <td>236.0</td>\n",
       "      <td>1.32</td>\n",
       "      <td>7.48</td>\n",
       "      <td>7.02</td>\n",
       "      <td>-103.06</td>\n",
       "      <td>-104.29</td>\n",
       "      <td>349.73</td>\n",
       "      <td>19.66</td>\n",
       "      <td>12.29</td>\n",
       "      <td>9.33560</td>\n",
       "      <td>8.88595</td>\n",
       "      <td>27.19</td>\n",
       "      <td>24.35</td>\n",
       "    </tr>\n",
       "    <tr>\n",
       "      <th>3</th>\n",
       "      <td>77.648155</td>\n",
       "      <td>237.0</td>\n",
       "      <td>1.66</td>\n",
       "      <td>7.62</td>\n",
       "      <td>7.06</td>\n",
       "      <td>-101.78</td>\n",
       "      <td>-103.33</td>\n",
       "      <td>412.15</td>\n",
       "      <td>-17.06</td>\n",
       "      <td>30.62</td>\n",
       "      <td>10.11626</td>\n",
       "      <td>10.83677</td>\n",
       "      <td>39.99</td>\n",
       "      <td>45.81</td>\n",
       "    </tr>\n",
       "    <tr>\n",
       "      <th>4</th>\n",
       "      <td>77.649902</td>\n",
       "      <td>238.0</td>\n",
       "      <td>1.87</td>\n",
       "      <td>7.71</td>\n",
       "      <td>7.07</td>\n",
       "      <td>-100.97</td>\n",
       "      <td>-102.72</td>\n",
       "      <td>413.96</td>\n",
       "      <td>36.35</td>\n",
       "      <td>43.00</td>\n",
       "      <td>7.29820</td>\n",
       "      <td>7.35626</td>\n",
       "      <td>37.77</td>\n",
       "      <td>38.45</td>\n",
       "    </tr>\n",
       "  </tbody>\n",
       "</table>\n",
       "</div>"
      ],
      "text/plain": [
       "   DECIMAL YEAR  DAY OF YEAR  V2 ANGLE  V2 HELIOLATITUDE  \\\n",
       "0     77.640076        234.0      0.65              7.20   \n",
       "1     77.642250        235.0      0.92              7.31   \n",
       "2     77.645432        236.0      1.32              7.48   \n",
       "3     77.648155        237.0      1.66              7.62   \n",
       "4     77.649902        238.0      1.87              7.71   \n",
       "\n",
       "   EARTH HELIOLATITUDEV2 HELIOLONGITUDE  EARTH HELIOLONGITUDE      VR      VT  \\\n",
       "0                                  6.96               -105.56 -106.17  350.89   \n",
       "1                                  6.99               -104.55 -105.41  330.08   \n",
       "2                                  7.02               -103.06 -104.29  349.73   \n",
       "3                                  7.06               -101.78 -103.33  412.15   \n",
       "4                                  7.07               -100.97 -102.72  413.96   \n",
       "\n",
       "      VN  DEN MOMENT   DEN FIT  W MOMENT  W FIT      R  \n",
       "0  30.24       15.65   4.82811   4.54375  28.89  25.42  \n",
       "1  26.39       35.59   9.81383   9.17923  20.89  19.74  \n",
       "2  19.66       12.29   9.33560   8.88595  27.19  24.35  \n",
       "3 -17.06       30.62  10.11626  10.83677  39.99  45.81  \n",
       "4  36.35       43.00   7.29820   7.35626  37.77  38.45  "
      ]
     },
     "execution_count": 5,
     "metadata": {},
     "output_type": "execute_result"
    }
   ],
   "source": [
    "df.head()"
   ]
  },
  {
   "cell_type": "code",
   "execution_count": 8,
   "metadata": {},
   "outputs": [
    {
     "data": {
      "text/plain": [
       "<matplotlib.collections.PathCollection at 0x11500d490>"
      ]
     },
     "execution_count": 8,
     "metadata": {},
     "output_type": "execute_result"
    },
    {
     "data": {
      "image/png": "[encoded data removed]",
      "text/plain": [
       "<Figure size 432x288 with 1 Axes>"
      ]
     },
     "metadata": {},
     "output_type": "display_data"
    }
   ],
   "source": [
    "plt.scatter(\"R\", \"VT\", data=df)"
   ]
  }
 ],
 "metadata": {
  "kernelspec": {
   "display_name": "Python 3",
   "language": "python",
   "name": "python3"
  },
  "language_info": {
   "codemirror_mode": {
    "name": "ipython",
    "version": 3
   },
   "file_extension": ".py",
   "mimetype": "text/x-python",
   "name": "python",
   "nbconvert_exporter": "python",
   "pygments_lexer": "ipython3",
   "version": "3.7.7"
  }
 },
 "nbformat": 4,
 "nbformat_minor": 4
}
