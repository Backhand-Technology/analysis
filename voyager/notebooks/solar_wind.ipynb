{
 "cells": [
  {
   "cell_type": "code",
   "execution_count": 1,
   "metadata": {},
   "outputs": [],
   "source": [
    "from common.chart_helper import *"
   ]
  },
  {
   "cell_type": "code",
   "execution_count": 2,
   "metadata": {},
   "outputs": [],
   "source": [
    "column_names = [\n",
    "    \"DECIMAL YEAR\",\n",
    "    \"DAY OF YEAR\",\n",
    "    \"V2 ANGLE\",\n",
    "    \"V2 HELIOLATITUDE\",\n",
    "    \"EARTH HELIOLATITUDE\"\n",
    "    \"V2 HELIOLONGITUDE\",\n",
    "    \"EARTH HELIOLONGITUDE\",\n",
    "    \"VR\",\n",
    "    \"VT\",\n",
    "    \"VN\",\n",
    "    \"DEN MOMENT\",\n",
    "    \"DEN FIT\",\n",
    "    \"W MOMENT\",\n",
    "    \"W FIT\",\n",
    "    \"R\"]"
   ]
  },
  {
   "cell_type": "code",
   "execution_count": 3,
   "metadata": {},
   "outputs": [],
   "source": [
    "df = pd.read_csv('/Users/martinbell/analysis/voyager/source/VG2-SS-PLS-4-SUMM-1DAY-AVG-V1.0/DATA/2018_021_AUG.TAB', sep='\\s+', header = None, names = column_names)"
   ]
  },
  {
   "cell_type": "code",
   "execution_count": 4,
   "metadata": {},
   "outputs": [
    {
     "data": {
      "text/html": [
       "<div>\n",
       "<style scoped>\n",
       "    .dataframe tbody tr th:only-of-type {\n",
       "        vertical-align: middle;\n",
       "    }\n",
       "\n",
       "    .dataframe tbody tr th {\n",
       "        vertical-align: top;\n",
       "    }\n",
       "\n",
       "    .dataframe thead th {\n",
       "        text-align: right;\n",
       "    }\n",
       "</style>\n",
       "<table border=\"1\" class=\"dataframe\">\n",
       "  <thead>\n",
       "    <tr style=\"text-align: right;\">\n",
       "      <th></th>\n",
       "      <th>DECIMAL YEAR</th>\n",
       "      <th>DAY OF YEAR</th>\n",
       "      <th>V2 ANGLE</th>\n",
       "      <th>V2 HELIOLATITUDE</th>\n",
       "      <th>EARTH HELIOLATITUDEV2 HELIOLONGITUDE</th>\n",
       "      <th>EARTH HELIOLONGITUDE</th>\n",
       "      <th>VR</th>\n",
       "      <th>VT</th>\n",
       "      <th>VN</th>\n",
       "      <th>DEN MOMENT</th>\n",
       "      <th>DEN FIT</th>\n",
       "      <th>W MOMENT</th>\n",
       "      <th>W FIT</th>\n",
       "      <th>R</th>\n",
       "    </tr>\n",
       "  </thead>\n",
       "  <tbody>\n",
       "    <tr>\n",
       "      <th>77.640076</th>\n",
       "      <td>234.0</td>\n",
       "      <td>0.65</td>\n",
       "      <td>7.20</td>\n",
       "      <td>6.96</td>\n",
       "      <td>-105.56</td>\n",
       "      <td>-106.17</td>\n",
       "      <td>350.89</td>\n",
       "      <td>30.24</td>\n",
       "      <td>15.65</td>\n",
       "      <td>4.82811</td>\n",
       "      <td>4.54375</td>\n",
       "      <td>28.89</td>\n",
       "      <td>25.42</td>\n",
       "      <td>1.01235</td>\n",
       "    </tr>\n",
       "    <tr>\n",
       "      <th>77.642250</th>\n",
       "      <td>235.0</td>\n",
       "      <td>0.92</td>\n",
       "      <td>7.31</td>\n",
       "      <td>6.99</td>\n",
       "      <td>-104.55</td>\n",
       "      <td>-105.41</td>\n",
       "      <td>330.08</td>\n",
       "      <td>26.39</td>\n",
       "      <td>35.59</td>\n",
       "      <td>9.81383</td>\n",
       "      <td>9.17923</td>\n",
       "      <td>20.89</td>\n",
       "      <td>19.74</td>\n",
       "      <td>1.01124</td>\n",
       "    </tr>\n",
       "    <tr>\n",
       "      <th>77.645432</th>\n",
       "      <td>236.0</td>\n",
       "      <td>1.32</td>\n",
       "      <td>7.48</td>\n",
       "      <td>7.02</td>\n",
       "      <td>-103.06</td>\n",
       "      <td>-104.29</td>\n",
       "      <td>349.73</td>\n",
       "      <td>19.66</td>\n",
       "      <td>12.29</td>\n",
       "      <td>9.33560</td>\n",
       "      <td>8.88595</td>\n",
       "      <td>27.19</td>\n",
       "      <td>24.35</td>\n",
       "      <td>1.00993</td>\n",
       "    </tr>\n",
       "    <tr>\n",
       "      <th>77.648155</th>\n",
       "      <td>237.0</td>\n",
       "      <td>1.66</td>\n",
       "      <td>7.62</td>\n",
       "      <td>7.06</td>\n",
       "      <td>-101.78</td>\n",
       "      <td>-103.33</td>\n",
       "      <td>412.15</td>\n",
       "      <td>-17.06</td>\n",
       "      <td>30.62</td>\n",
       "      <td>10.11626</td>\n",
       "      <td>10.83677</td>\n",
       "      <td>39.99</td>\n",
       "      <td>45.81</td>\n",
       "      <td>1.00895</td>\n",
       "    </tr>\n",
       "    <tr>\n",
       "      <th>77.649902</th>\n",
       "      <td>238.0</td>\n",
       "      <td>1.87</td>\n",
       "      <td>7.71</td>\n",
       "      <td>7.07</td>\n",
       "      <td>-100.97</td>\n",
       "      <td>-102.72</td>\n",
       "      <td>413.96</td>\n",
       "      <td>36.35</td>\n",
       "      <td>43.00</td>\n",
       "      <td>7.29820</td>\n",
       "      <td>7.35626</td>\n",
       "      <td>37.77</td>\n",
       "      <td>38.45</td>\n",
       "      <td>1.00800</td>\n",
       "    </tr>\n",
       "  </tbody>\n",
       "</table>\n",
       "</div>"
      ],
      "text/plain": [
       "           DECIMAL YEAR  DAY OF YEAR  V2 ANGLE  V2 HELIOLATITUDE  \\\n",
       "77.640076         234.0         0.65      7.20              6.96   \n",
       "77.642250         235.0         0.92      7.31              6.99   \n",
       "77.645432         236.0         1.32      7.48              7.02   \n",
       "77.648155         237.0         1.66      7.62              7.06   \n",
       "77.649902         238.0         1.87      7.71              7.07   \n",
       "\n",
       "           EARTH HELIOLATITUDEV2 HELIOLONGITUDE  EARTH HELIOLONGITUDE      VR  \\\n",
       "77.640076                               -105.56               -106.17  350.89   \n",
       "77.642250                               -104.55               -105.41  330.08   \n",
       "77.645432                               -103.06               -104.29  349.73   \n",
       "77.648155                               -101.78               -103.33  412.15   \n",
       "77.649902                               -100.97               -102.72  413.96   \n",
       "\n",
       "              VT     VN  DEN MOMENT   DEN FIT  W MOMENT  W FIT        R  \n",
       "77.640076  30.24  15.65     4.82811   4.54375     28.89  25.42  1.01235  \n",
       "77.642250  26.39  35.59     9.81383   9.17923     20.89  19.74  1.01124  \n",
       "77.645432  19.66  12.29     9.33560   8.88595     27.19  24.35  1.00993  \n",
       "77.648155 -17.06  30.62    10.11626  10.83677     39.99  45.81  1.00895  \n",
       "77.649902  36.35  43.00     7.29820   7.35626     37.77  38.45  1.00800  "
      ]
     },
     "execution_count": 4,
     "metadata": {},
     "output_type": "execute_result"
    }
   ],
   "source": [
    "df.head()"
   ]
  },
  {
   "cell_type": "code",
   "execution_count": 5,
   "metadata": {},
   "outputs": [
    {
     "data": {
      "text/plain": [
       "[<matplotlib.lines.Line2D at 0x10514a850>]"
      ]
     },
     "execution_count": 5,
     "metadata": {},
     "output_type": "execute_result"
    },
    {
     "data": {
      "image/png": "[encoded data removed]",
      "text/plain": [
       "<Figure size 432x288 with 1 Axes>"
      ]
     },
     "metadata": {},
     "output_type": "display_data"
    }
   ],
   "source": [
    "plt.plot(\"R\", \"VR\", data=df)"
   ]
  },
  {
   "cell_type": "code",
   "execution_count": null,
   "metadata": {},
   "outputs": [],
   "source": []
  },
  {
   "cell_type": "code",
   "execution_count": null,
   "metadata": {},
   "outputs": [],
   "source": []
  }
 ],
 "metadata": {
  "kernelspec": {
   "display_name": "Python 3",
   "language": "python",
   "name": "python3"
  },
  "language_info": {
   "codemirror_mode": {
    "name": "ipython",
    "version": 3
   },
   "file_extension": ".py",
   "mimetype": "text/x-python",
   "name": "python",
   "nbconvert_exporter": "python",
   "pygments_lexer": "ipython3",
   "version": "3.7.7"
  }
 },
 "nbformat": 4,
 "nbformat_minor": 4
}
